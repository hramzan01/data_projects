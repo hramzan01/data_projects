{
 "cells": [
  {
   "cell_type": "code",
   "execution_count": 34,
   "id": "7aee0e37-55b6-4909-b265-fa46a5233d60",
   "metadata": {
    "tags": []
   },
   "outputs": [],
   "source": [
    "import PyPDF2\n",
    "import pandas as pd"
   ]
  },
  {
   "cell_type": "code",
   "execution_count": 40,
   "id": "e810bf50-1945-49d9-a7b7-3abdf3ec0bc2",
   "metadata": {
    "tags": []
   },
   "outputs": [
    {
     "name": "stderr",
     "output_type": "stream",
     "text": [
      "unknown widths : \n",
      "[0, IndirectObject(136, 0, 2211732753360)]\n",
      "unknown widths : \n",
      "[0, IndirectObject(111, 0, 2211732753360)]\n",
      "unknown widths : \n",
      "[0, IndirectObject(151, 0, 2211732753360)]\n",
      "unknown widths : \n",
      "[0, IndirectObject(80, 0, 2211732753360)]\n"
     ]
    },
    {
     "name": "stdout",
     "output_type": "stream",
     "text": [
      "            Words\n",
      "114            38\n",
      "112           468\n",
      "61         512esl\n",
      "62         512esr\n",
      "63         ansl31\n",
      "0          ansl32\n",
      "1          ansl33\n",
      "64         ansl34\n",
      "100  ansl34_rasta\n",
      "99        ansl34a\n",
      "2          ansl35\n",
      "3          ansl36\n",
      "65         ansl37\n",
      "24         ansl38\n",
      "66         bareav\n",
      "30          baten\n",
      "31          brass\n",
      "111         brick\n",
      "32          brick\n",
      "109       brick_a\n",
      "67         brlpr2\n",
      "68         brlpr3\n",
      "101    bwk_eng_01\n",
      "102    bwk_fle_01\n",
      "103    bwk_str_01\n",
      "55         cblk16\n",
      "33          cblkb\n",
      "83             cl\n",
      "4            clay\n",
      "5          clgrid\n",
      "6          cmbond\n",
      "7           coash\n",
      "25         concr2\n",
      "34         concr3\n",
      "35         concrt\n",
      "36           cork\n",
      "37          cross\n",
      "54         crsrbl\n",
      "8           cubes\n",
      "9            dash\n",
      "10         dolmit\n",
      "98          earth\n",
      "95         earth2\n",
      "96         earth3\n",
      "97         earth4\n",
      "11         enbond\n",
      "69         exgrnd\n",
      "70          fence\n",
      "26         flbond\n",
      "38         flcomm\n",
      "39           flex\n",
      "40         gblock\n",
      "115       glazing\n",
      "41         grade1\n",
      "12         grade3\n",
      "13          grass\n",
      "14          grate\n",
      "15         gravel\n",
      "27          hbone\n",
      "42         herrng\n"
     ]
    }
   ],
   "source": [
    "# Open the PDF file\n",
    "with open('patterns.pdf', 'rb') as pdf_file:\n",
    "    pdf_reader = PyPDF2.PdfFileReader(pdf_file)\n",
    "\n",
    "    words_list = []\n",
    "\n",
    "    for page_num in range(pdf_reader.numPages):\n",
    "        page = pdf_reader.getPage(page_num)\n",
    "        text = page.extractText().lower()\n",
    "        words = text.split()  # Split the text into words\n",
    "        words_list.extend(words)\n",
    "\n",
    "# Create a DataFrame from the list of words\n",
    "df = pd.DataFrame({'Words': words_list})\n",
    "\n",
    "df_sorted = df.sort_values(by='Words', ascending=True)\n",
    "\n",
    "# Print the first few rows of the DataFrame\n",
    "print(df_sorted.head(60))\n"
   ]
  },
  {
   "cell_type": "code",
   "execution_count": 41,
   "id": "55faafed-c64d-4b10-a2c2-b76aa3d37656",
   "metadata": {
    "tags": []
   },
   "outputs": [
    {
     "data": {
      "text/html": [
       "<div>\n",
       "<style scoped>\n",
       "    .dataframe tbody tr th:only-of-type {\n",
       "        vertical-align: middle;\n",
       "    }\n",
       "\n",
       "    .dataframe tbody tr th {\n",
       "        vertical-align: top;\n",
       "    }\n",
       "\n",
       "    .dataframe thead th {\n",
       "        text-align: right;\n",
       "    }\n",
       "</style>\n",
       "<table border=\"1\" class=\"dataframe\">\n",
       "  <thead>\n",
       "    <tr style=\"text-align: right;\">\n",
       "      <th></th>\n",
       "      <th>Words</th>\n",
       "    </tr>\n",
       "  </thead>\n",
       "  <tbody>\n",
       "    <tr>\n",
       "      <th>0</th>\n",
       "      <td>ansl32</td>\n",
       "    </tr>\n",
       "    <tr>\n",
       "      <th>1</th>\n",
       "      <td>ansl33</td>\n",
       "    </tr>\n",
       "    <tr>\n",
       "      <th>2</th>\n",
       "      <td>ansl35</td>\n",
       "    </tr>\n",
       "    <tr>\n",
       "      <th>3</th>\n",
       "      <td>ansl36</td>\n",
       "    </tr>\n",
       "    <tr>\n",
       "      <th>4</th>\n",
       "      <td>clay</td>\n",
       "    </tr>\n",
       "  </tbody>\n",
       "</table>\n",
       "</div>"
      ],
      "text/plain": [
       "    Words\n",
       "0  ansl32\n",
       "1  ansl33\n",
       "2  ansl35\n",
       "3  ansl36\n",
       "4    clay"
      ]
     },
     "execution_count": 41,
     "metadata": {},
     "output_type": "execute_result"
    }
   ],
   "source": [
    "df.reset_index()\n",
    "df.head()"
   ]
  },
  {
   "cell_type": "code",
   "execution_count": 42,
   "id": "ecac80a1-0df4-4184-b37a-5be005c77e4c",
   "metadata": {
    "tags": []
   },
   "outputs": [
    {
     "data": {
      "text/html": [
       "<div>\n",
       "<style scoped>\n",
       "    .dataframe tbody tr th:only-of-type {\n",
       "        vertical-align: middle;\n",
       "    }\n",
       "\n",
       "    .dataframe tbody tr th {\n",
       "        vertical-align: top;\n",
       "    }\n",
       "\n",
       "    .dataframe thead th {\n",
       "        text-align: right;\n",
       "    }\n",
       "</style>\n",
       "<table border=\"1\" class=\"dataframe\">\n",
       "  <thead>\n",
       "    <tr style=\"text-align: right;\">\n",
       "      <th></th>\n",
       "      <th>Words</th>\n",
       "    </tr>\n",
       "  </thead>\n",
       "  <tbody>\n",
       "    <tr>\n",
       "      <th>0</th>\n",
       "      <td>RSHP Detail_ansl32</td>\n",
       "    </tr>\n",
       "    <tr>\n",
       "      <th>1</th>\n",
       "      <td>RSHP Detail_ansl33</td>\n",
       "    </tr>\n",
       "    <tr>\n",
       "      <th>2</th>\n",
       "      <td>RSHP Detail_ansl35</td>\n",
       "    </tr>\n",
       "    <tr>\n",
       "      <th>3</th>\n",
       "      <td>RSHP Detail_ansl36</td>\n",
       "    </tr>\n",
       "    <tr>\n",
       "      <th>4</th>\n",
       "      <td>RSHP Detail_clay</td>\n",
       "    </tr>\n",
       "    <tr>\n",
       "      <th>...</th>\n",
       "      <td>...</td>\n",
       "    </tr>\n",
       "    <tr>\n",
       "      <th>111</th>\n",
       "      <td>RSHP Detail_brick</td>\n",
       "    </tr>\n",
       "    <tr>\n",
       "      <th>112</th>\n",
       "      <td>RSHP Detail_468</td>\n",
       "    </tr>\n",
       "    <tr>\n",
       "      <th>113</th>\n",
       "      <td>RSHP Detail_x</td>\n",
       "    </tr>\n",
       "    <tr>\n",
       "      <th>114</th>\n",
       "      <td>RSHP Detail_38</td>\n",
       "    </tr>\n",
       "    <tr>\n",
       "      <th>115</th>\n",
       "      <td>RSHP Detail_glazing</td>\n",
       "    </tr>\n",
       "  </tbody>\n",
       "</table>\n",
       "<p>116 rows × 1 columns</p>\n",
       "</div>"
      ],
      "text/plain": [
       "                   Words\n",
       "0     RSHP Detail_ansl32\n",
       "1     RSHP Detail_ansl33\n",
       "2     RSHP Detail_ansl35\n",
       "3     RSHP Detail_ansl36\n",
       "4       RSHP Detail_clay\n",
       "..                   ...\n",
       "111    RSHP Detail_brick\n",
       "112      RSHP Detail_468\n",
       "113        RSHP Detail_x\n",
       "114       RSHP Detail_38\n",
       "115  RSHP Detail_glazing\n",
       "\n",
       "[116 rows x 1 columns]"
      ]
     },
     "execution_count": 42,
     "metadata": {},
     "output_type": "execute_result"
    }
   ],
   "source": [
    "prefix = 'RSHP_Detail_'\n",
    "df['Words'] = df['Words'].apply(lambda x: prefix + x)\n",
    "df"
   ]
  },
  {
   "cell_type": "code",
   "execution_count": 47,
   "id": "4d937301-936e-4e4c-95d0-14bfc8188fcd",
   "metadata": {
    "tags": []
   },
   "outputs": [
    {
     "name": "stdout",
     "output_type": "stream",
     "text": [
      "CSV Exported sucessfuly✅\n"
     ]
    }
   ],
   "source": [
    "df.to_csv('names.csv', index=False)\n",
    "print('CSV Exported sucessfuly✅')"
   ]
  }
 ],
 "metadata": {
  "kernelspec": {
   "display_name": "Python 3 (ipykernel)",
   "language": "python",
   "name": "python3"
  },
  "language_info": {
   "codemirror_mode": {
    "name": "ipython",
    "version": 3
   },
   "file_extension": ".py",
   "mimetype": "text/x-python",
   "name": "python",
   "nbconvert_exporter": "python",
   "pygments_lexer": "ipython3",
   "version": "3.11.4"
  }
 },
 "nbformat": 4,
 "nbformat_minor": 5
}
